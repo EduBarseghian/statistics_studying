{
  "nbformat": 4,
  "nbformat_minor": 0,
  "metadata": {
    "colab": {
      "name": "samplesize.ipynb",
      "provenance": [],
      "authorship_tag": "ABX9TyMMIQX3cZFvuLp7rWHkLn0g",
      "include_colab_link": true
    },
    "kernelspec": {
      "name": "python3",
      "display_name": "Python 3"
    },
    "language_info": {
      "name": "python"
    }
  },
  "cells": [
    {
      "cell_type": "markdown",
      "metadata": {
        "id": "view-in-github",
        "colab_type": "text"
      },
      "source": [
        "<a href=\"https://colab.research.google.com/github/EduBarseghian/statistics_studying/blob/main/samplesize.ipynb\" target=\"_parent\"><img src=\"https://colab.research.google.com/assets/colab-badge.svg\" alt=\"Open In Colab\"/></a>"
      ]
    },
    {
      "cell_type": "markdown",
      "source": [
        "##Calculating sample size\n",
        "\n",
        "Let's finish up our dive into statistical tests by performing power analysis to generate needed sample size. Power analysis involves four moving parts:\n",
        "\n",
        "Sample size\n",
        "\n",
        "Effect size\n",
        "\n",
        "Minimum effect\n",
        "\n",
        "Power\n",
        "\n",
        "In this exercise, you're working with a website and want to test for a difference in conversion rate. Before you begin the experiment, you must decide how many samples you'll need per variant using 5% significance and 95% power.\n",
        "\n",
        "\n",
        "#Power Analysis\n",
        "\n",
        "Power analysis allows us to determine the sample size required to detect an effect of a given size with a given degree of confidence. \n",
        "\n",
        "Conversely, it allows us to determine the probability of detecting an effect of a given size with a given level of confidence, under sample size constraints. \n",
        "\n",
        "If the probability is unacceptably low, we would be wise to alter or abandon the experiment.\n",
        "\n",
        "The following four quantities have an intimate relationship:\n",
        "\n",
        "sample size\n",
        "\n",
        "effect size\n",
        "\n",
        "significance level = P(Type I error) = probability of finding an effect that is not there\n",
        "\n",
        "power = 1 - P(Type II error) = probability of finding an effect that is there\n",
        "\n",
        "Given any three, we can determine the fourth."
      ],
      "metadata": {
        "id": "bB-Exk4ZeUZ_"
      }
    },
    {
      "cell_type": "code",
      "source": [
        "# Standardize the effect size\n",
        "from statsmodels.stats.proportion import proportion_effectsize\n",
        "# Effect size for a test comparing two proportions\n",
        "# for use in power function"
      ],
      "metadata": {
        "id": "rk4cTTJgehcX"
      },
      "execution_count": null,
      "outputs": []
    },
    {
      "cell_type": "code",
      "source": [
        "proportion_effectsize(0.5, 0.4)"
      ],
      "metadata": {
        "colab": {
          "base_uri": "https://localhost:8080/"
        },
        "id": "1_IdUjIHh4g7",
        "outputId": "3098e842-babb-424a-f599-621c7e585eae"
      },
      "execution_count": null,
      "outputs": [
        {
          "output_type": "execute_result",
          "data": {
            "text/plain": [
              "0.20135792079033088"
            ]
          },
          "metadata": {},
          "execution_count": 3
        }
      ]
    },
    {
      "cell_type": "code",
      "source": [
        "proportion_effectsize([0.3, 0.4, 0.5], 0.4)"
      ],
      "metadata": {
        "colab": {
          "base_uri": "https://localhost:8080/"
        },
        "id": "fi8ayVpHh_t7",
        "outputId": "0667a89e-7cc6-4f21-8e09-b44ea7a6d79e"
      },
      "execution_count": null,
      "outputs": [
        {
          "output_type": "execute_result",
          "data": {
            "text/plain": [
              "array([-0.21015893,  0.        ,  0.20135792])"
            ]
          },
          "metadata": {},
          "execution_count": 5
        }
      ]
    },
    {
      "cell_type": "code",
      "source": [
        ""
      ],
      "metadata": {
        "id": "IKdQtsuEiDNP"
      },
      "execution_count": null,
      "outputs": []
    }
  ]
}